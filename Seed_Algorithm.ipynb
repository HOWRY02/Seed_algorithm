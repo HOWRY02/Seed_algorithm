{
  "cells": [
    {
      "cell_type": "code",
      "execution_count": null,
      "metadata": {
        "id": "bEpT_RCj691M"
      },
      "outputs": [],
      "source": [
        "from google.colab import drive\n",
        "drive.mount('/content/drive', force_remount=True)"
      ]
    },
    {
      "cell_type": "code",
      "execution_count": null,
      "metadata": {
        "colab": {
          "base_uri": "https://localhost:8080/"
        },
        "id": "-dd1pfge_hGx",
        "outputId": "08363034-d367-4098-afdb-57619d0a5abe"
      },
      "outputs": [
        {
          "name": "stdout",
          "output_type": "stream",
          "text": [
            "Cloning into 'Seed_algorithm'...\n",
            "remote: Enumerating objects: 44, done.\u001b[K\n",
            "remote: Counting objects: 100% (44/44), done.\u001b[K\n",
            "remote: Compressing objects: 100% (28/28), done.\u001b[K\n",
            "remote: Total 44 (delta 14), reused 34 (delta 7), pack-reused 0\u001b[K\n",
            "Receiving objects: 100% (44/44), 11.31 KiB | 5.65 MiB/s, done.\n",
            "Resolving deltas: 100% (14/14), done.\n"
          ]
        }
      ],
      "source": [
        "!git clone https://github.com/HOWRY02/Seed_algorithm.git"
      ]
    },
    {
      "cell_type": "code",
      "execution_count": null,
      "metadata": {
        "colab": {
          "base_uri": "https://localhost:8080/"
        },
        "id": "s0-3FKET_1s0",
        "outputId": "276a2933-bba8-4b3c-b3f4-5ec5bab361aa"
      },
      "outputs": [
        {
          "name": "stdout",
          "output_type": "stream",
          "text": [
            "/content/Seed_algorithm\n",
            "Requirement already satisfied: pandas in /usr/local/lib/python3.10/dist-packages (from -r requirements.txt (line 1)) (1.5.3)\n",
            "Requirement already satisfied: python-dateutil>=2.8.1 in /usr/local/lib/python3.10/dist-packages (from pandas->-r requirements.txt (line 1)) (2.8.2)\n",
            "Requirement already satisfied: pytz>=2020.1 in /usr/local/lib/python3.10/dist-packages (from pandas->-r requirements.txt (line 1)) (2023.3.post1)\n",
            "Requirement already satisfied: numpy>=1.21.0 in /usr/local/lib/python3.10/dist-packages (from pandas->-r requirements.txt (line 1)) (1.23.5)\n",
            "Requirement already satisfied: six>=1.5 in /usr/local/lib/python3.10/dist-packages (from python-dateutil>=2.8.1->pandas->-r requirements.txt (line 1)) (1.16.0)\n",
            "/content\n"
          ]
        }
      ],
      "source": [
        "%cd /content/Seed_algorithm\n",
        "!pip install -r requirements.txt\n",
        "\n",
        "import pandas as pd\n",
        "from batches_generator import BatchesGenerator\n",
        "%cd /content"
      ]
    },
    {
      "cell_type": "code",
      "execution_count": 32,
      "metadata": {
        "id": "kPzFH4coUjms"
      },
      "outputs": [],
      "source": [
        "# https://docs.google.com/spreadsheets/d/1mZ8MT28gK8gzkVD9p0Ipp-qeGSQSt9emIA2Q5L-PR98/edit?usp=sharing\n",
        "gsheetid = '1mZ8MT28gK8gzkVD9p0Ipp-qeGSQSt9emIA2Q5L-PR98'\n",
        "sheet_name = 'Order_Data_Day_1'\n",
        "gsheet_url = \"https://docs.google.com/spreadsheets/d/{}/gviz/tq?tqx=out:csv&sheet={}\".format(gsheetid, sheet_name)"
      ]
    },
    {
      "cell_type": "code",
      "execution_count": 34,
      "metadata": {
        "id": "-rADu96WejYr"
      },
      "outputs": [],
      "source": [
        "df = pd.read_csv(gsheet_url)\n",
        "\n",
        "batches_generator = BatchesGenerator()\n",
        "batches, picking_time_list, packing_time_list = batches_generator.generate_batches(df)"
      ]
    },
    {
      "cell_type": "code",
      "execution_count": 35,
      "metadata": {
        "colab": {
          "base_uri": "https://localhost:8080/"
        },
        "id": "IUTrqaCai7AS",
        "outputId": "9f19f740-b804-4600-bc1e-6ec1411ef4cb"
      },
      "outputs": [
        {
          "name": "stdout",
          "output_type": "stream",
          "text": [
            "picking_time_list: ([408.0, 365.2, 434.59999999999997, 371.20000000000005, 401.0, 342.0, 408.40000000000003, 385.79999999999995, 403.6, 238.0, 402.4, 337.40000000000003, 446.6, 412.4, 322.79999999999995, 345.79999999999995, 405.79999999999995, 266.0, 269.0, 279.8, 281.0, 296.0, 311.0, 311.0, 317.0, 368.0, 374.0, 381.79999999999995, 393.20000000000005, 407.0], 30)\n",
            "packing_time_list: ([191, 248, 248, 150, 181, 161, 200, 121, 143, 37, 35, 111, 135, 136, 90, 100, 88, 51, 67, 71, 63, 29, 67, 87, 53, 65, 71, 81, 51, 77], 30)\n",
            "C_max: 3616.0\n",
            "batches: ([['489HD145170', '661HD145171', '232HD145170', '487HD145170', '695HD145170', '733HD145171', '550HD145171', '695HD145171', '490HD145170'], ['651HD145171', '96HD145170', '220HD145171', '124HD145171', '220HD145170', '661HD145170', '247HD145171', '324HD145170', '130HD145171', '324HD145171'], ['123HD145170', '71HD145171', '671HD145171', '670HD145171', '747HD145171', '664HD145171', '436HD145170', '740HD145171'], ['232HD145171', '280HD145170', '484HD145170', '489HD145171', '130HD145170', '124HD145170'], ['280HD145171', '72HD145171', '669HD145171', '487HD145171', '666HD145170'], ['668HD145171', '368HD145171', '488HD145170', '214HD145170', '651HD145170'], ['488HD145171', '484HD145171', '741HD145171', '268HD145170', '666HD145171', '485HD145170'], ['737HD145170', '214HD145171', '258HD145170'], ['490HD145171', '37HD145171', '72HD145170'], ['496HD145170'], ['4101191184'], ['656HD145170', '361HD145171', '349HD145170'], ['368HD145170', '225HD145171', '720HD145170'], ['349HD145171', '485HD145171', '436HD145171', '384HD145171'], ['550HD145170', '384HD145170'], ['740HD145170', '268HD145171'], ['717HD145171', '486HD145170'], ['225HD145170'], ['424HD145170'], ['656HD145171'], ['37HD145170'], ['663HD145171'], ['552HD145170'], ['424HD145171'], ['303HD145170'], ['717HD145170'], ['426HD145171'], ['608HD145170'], ['303HD145171'], ['426HD145170']], 30)\n",
            "num_of_item_in_batches: 86\n"
          ]
        }
      ],
      "source": [
        "num_of_item_in_batches = 0\n",
        "for i in batches:\n",
        "    num_of_item_in_batches += len(i)\n",
        "\n",
        "C_max = sum(packing_time_list) + picking_time_list[0]\n",
        "\n",
        "print(f'picking_time_list: {picking_time_list, len(picking_time_list)}')\n",
        "print(f'packing_time_list: {packing_time_list, len(packing_time_list)}')\n",
        "print(f'C_max: {C_max}')\n",
        "print(f'batches: {batches, len(batches)}')\n",
        "print(f'num_of_item_in_batches: {num_of_item_in_batches}')"
      ]
    }
  ],
  "metadata": {
    "colab": {
      "provenance": []
    },
    "kernelspec": {
      "display_name": "Python 3",
      "name": "python3"
    },
    "language_info": {
      "name": "python"
    }
  },
  "nbformat": 4,
  "nbformat_minor": 0
}
